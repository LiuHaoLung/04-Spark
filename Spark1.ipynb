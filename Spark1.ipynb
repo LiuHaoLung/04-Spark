{
 "cells": [
  {
   "cell_type": "markdown",
   "metadata": {},
   "source": [
    "## Spark，並使用 Ubuntu jupyter notebook"
   ]
  },
  {
   "cell_type": "markdown",
   "metadata": {},
   "source": [
    "#### Create a SparkContex"
   ]
  },
  {
   "cell_type": "code",
   "execution_count": 1,
   "metadata": {},
   "outputs": [],
   "source": [
    "# from pyspark import SparkContext"
   ]
  },
  {
   "cell_type": "code",
   "execution_count": 2,
   "metadata": {},
   "outputs": [],
   "source": [
    "# it is represent the connection to the spark cluster\n",
    "# it can be used create in RDD\n",
    "# and broadcast variables on the cluster\n",
    "# you can only really have one spark at a time\n",
    "\n",
    "# sc = SparkContext()"
   ]
  },
  {
   "cell_type": "markdown",
   "metadata": {},
   "source": [
    "#### Create a File"
   ]
  },
  {
   "cell_type": "code",
   "execution_count": 3,
   "metadata": {},
   "outputs": [],
   "source": [
    "# can create a file\n",
    "# and write the line in this file\n",
    "# all things are need into one cell\n",
    "# and the spacing exactly the same\n",
    "# so there is no extra spaces between writefile and first line\n",
    "\n",
    "# %%writefile example.txt\n",
    "# first line\n",
    "# second line\n",
    "# third line\n",
    "# forth line"
   ]
  },
  {
   "cell_type": "markdown",
   "metadata": {},
   "source": [
    "#### Create the RDD"
   ]
  },
  {
   "cell_type": "code",
   "execution_count": 4,
   "metadata": {},
   "outputs": [],
   "source": [
    "# create the RDD using the textfile method\n",
    "# there are two options\n",
    "# perform the acrtion or the transformation\n",
    "\n",
    "# textFile = sc.textFile('example.txt')"
   ]
  },
  {
   "cell_type": "markdown",
   "metadata": {},
   "source": [
    "#### RDD Actions"
   ]
  },
  {
   "cell_type": "code",
   "execution_count": 5,
   "metadata": {},
   "outputs": [],
   "source": [
    "# action which return values\n",
    "# it just count the number of elements in RDD\n",
    "\n",
    "# textFile.count()"
   ]
  },
  {
   "cell_type": "code",
   "execution_count": 6,
   "metadata": {},
   "outputs": [],
   "source": [
    "# if just want to grab as an action the first line\n",
    "# use the first method can grab the first object back from the RDD\n",
    "\n",
    "# textFile.first()"
   ]
  },
  {
   "cell_type": "markdown",
   "metadata": {},
   "source": [
    "#### RDD Transformation"
   ]
  },
  {
   "cell_type": "code",
   "execution_count": 7,
   "metadata": {},
   "outputs": [],
   "source": [
    "# transformations which returns pointers to new RDD\n",
    "# it just like the python filter\n",
    "# when the condition be satisfy it will return the elements\n",
    "\n",
    "# secfind = textFile.filter(lambda line: 'second' in line)"
   ]
  },
  {
   "cell_type": "code",
   "execution_count": 8,
   "metadata": {},
   "outputs": [],
   "source": [
    "# the transformation doesn't actually execute\n",
    "# until you perform the action\n",
    "# so the transformation doesn't display any output\n",
    "# when only perform the action called\n",
    "\n",
    "# secfind"
   ]
  },
  {
   "cell_type": "code",
   "execution_count": 9,
   "metadata": {},
   "outputs": [],
   "source": [
    "# it is going to perform an action on the transformation\n",
    "# when perform the action it will return the elements\n",
    "# that satisfy the condition\n",
    "\n",
    "# secfind.collect()"
   ]
  },
  {
   "cell_type": "code",
   "execution_count": 10,
   "metadata": {},
   "outputs": [],
   "source": [
    "# secfind.count()"
   ]
  },
  {
   "cell_type": "code",
   "execution_count": null,
   "metadata": {},
   "outputs": [],
   "source": []
  }
 ],
 "metadata": {
  "kernelspec": {
   "display_name": "Python 3",
   "language": "python",
   "name": "python3"
  },
  "language_info": {
   "codemirror_mode": {
    "name": "ipython",
    "version": 3
   },
   "file_extension": ".py",
   "mimetype": "text/x-python",
   "name": "python",
   "nbconvert_exporter": "python",
   "pygments_lexer": "ipython3",
   "version": "3.7.4"
  }
 },
 "nbformat": 4,
 "nbformat_minor": 2
}
