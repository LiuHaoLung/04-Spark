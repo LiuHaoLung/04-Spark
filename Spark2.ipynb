{
 "cells": [
  {
   "cell_type": "code",
   "execution_count": 1,
   "metadata": {},
   "outputs": [],
   "source": [
    "# %%writefile example2.txt\n",
    "# first \n",
    "# second line\n",
    "# the third line\n",
    "# then a fourth line"
   ]
  },
  {
   "cell_type": "code",
   "execution_count": 2,
   "metadata": {},
   "outputs": [],
   "source": [
    "# from pyspark import SparkContext"
   ]
  },
  {
   "cell_type": "code",
   "execution_count": 3,
   "metadata": {},
   "outputs": [],
   "source": [
    "# sc = SparkContext()"
   ]
  },
  {
   "cell_type": "code",
   "execution_count": 4,
   "metadata": {},
   "outputs": [],
   "source": [
    "# sc.textFile('example2.txt')"
   ]
  },
  {
   "cell_type": "code",
   "execution_count": 5,
   "metadata": {},
   "outputs": [],
   "source": [
    "# it have a reference of RDD\n",
    "\n",
    "# text_rdd = sc.textFile('example2.txt')"
   ]
  },
  {
   "cell_type": "markdown",
   "metadata": {},
   "source": [
    "#### Map VS flatMap"
   ]
  },
  {
   "cell_type": "code",
   "execution_count": 6,
   "metadata": {},
   "outputs": [],
   "source": [
    "# transformation\n",
    "# even through split into multiple steps\n",
    "# it won't waste any memory\n",
    "# because nothing get evaluated until the final action cell\n",
    "\n",
    "# words = text_rdd.map(lambda line: line.split()).collect()"
   ]
  },
  {
   "cell_type": "code",
   "execution_count": 7,
   "metadata": {},
   "outputs": [],
   "source": [
    "# do the transformation action\n",
    "# so split every line to the list\n",
    "\n",
    "# words.collect()"
   ]
  },
  {
   "cell_type": "code",
   "execution_count": 8,
   "metadata": {},
   "outputs": [],
   "source": [
    "# put the transformation and action all in one line\n",
    "# it will collect single array or one single list of all the words in the textFile\n",
    "\n",
    "# text_rdd.flatmap(lambda line: line.split()).collect()"
   ]
  },
  {
   "cell_type": "markdown",
   "metadata": {},
   "source": [
    "#### Key Pairs"
   ]
  },
  {
   "cell_type": "code",
   "execution_count": 9,
   "metadata": {},
   "outputs": [],
   "source": [
    "# %%writefile services.txt\n",
    "# EventId    Timestamp    Customer   State    ServiceID    Amount\n",
    "# 201       10/13/2017      100       NY       131          100.00\n",
    "# 204       10/18/2017      700       TX       129          450.00\n",
    "# 202       10/15/2017      203       CA       121          200.00\n",
    "# 206       10/19/2017      202       CA       131          500.00\n",
    "# 203       10/17/2017      101       NY       173          750.00\n",
    "# 205       10/19/2017      202       TX       121          200.00"
   ]
  },
  {
   "cell_type": "code",
   "execution_count": 10,
   "metadata": {},
   "outputs": [],
   "source": [
    "# services = sc.textFile('services.txt')"
   ]
  },
  {
   "cell_type": "code",
   "execution_count": 11,
   "metadata": {},
   "outputs": [],
   "source": [
    "# it will grab the top lines of RDD\n",
    "# it can know it is all a single string per line\n",
    "\n",
    "# services.take(2)"
   ]
  },
  {
   "cell_type": "code",
   "execution_count": 12,
   "metadata": {},
   "outputs": [],
   "source": [
    "# it being to transform this string as every item in this list\n",
    "\n",
    "# services.map(lambda line: line.split()).take(3)"
   ]
  },
  {
   "cell_type": "code",
   "execution_count": 13,
   "metadata": {},
   "outputs": [],
   "source": [
    "# drop the # using lambda expression\n",
    "\n",
    "# services.map(lambda line: line[1:] if line[0]=='#' else line).collect()"
   ]
  },
  {
   "cell_type": "code",
   "execution_count": 14,
   "metadata": {},
   "outputs": [],
   "source": [
    "# clean = services.map(lambda line: line[1:] if line[0] == '#' else line)"
   ]
  },
  {
   "cell_type": "code",
   "execution_count": 15,
   "metadata": {},
   "outputs": [],
   "source": [
    "# clean = clean.map(lambda line: line.split())"
   ]
  },
  {
   "cell_type": "code",
   "execution_count": 16,
   "metadata": {},
   "outputs": [],
   "source": [
    "# clean.collect()"
   ]
  },
  {
   "cell_type": "code",
   "execution_count": 17,
   "metadata": {},
   "outputs": [],
   "source": [
    "# using tuple pairs to get the state and amounts\n",
    "\n",
    "# clean.map(lambda lst: (lst[3], lst[-1])).collect()"
   ]
  },
  {
   "cell_type": "code",
   "execution_count": 18,
   "metadata": {},
   "outputs": [],
   "source": [
    "# pairs = clean.map(lambda lst: (lst[3], lst[-1]))"
   ]
  },
  {
   "cell_type": "code",
   "execution_count": 19,
   "metadata": {},
   "outputs": [],
   "source": [
    "# reduceByKey will assume the data in the form of a key value pair\n",
    "# it assume the very first item in this tuple is the key\n",
    "# and perform the lambda as a reduction on the second item\n",
    "# so if want to use reduceByKey it need tuples\n",
    "\n",
    "# rekey = pairs.reduceByKey(lambda amt1,amt2 : amt1+amt2)"
   ]
  },
  {
   "cell_type": "code",
   "execution_count": 20,
   "metadata": {},
   "outputs": [],
   "source": [
    "# the amount still strings\n",
    "# so this doesn't quite work\n",
    "# it concatenating the string\n",
    "# it can see the amount also still have quotes\n",
    "\n",
    "# rekey.collect()"
   ]
  },
  {
   "cell_type": "code",
   "execution_count": 21,
   "metadata": {},
   "outputs": [],
   "source": [
    "# change string to the float\n",
    "# and it can concatenating by the float\n",
    "\n",
    "# rekey = pairs.reduceByKey(lambda amt1,amt2 : float(amt1) +float(amt2))"
   ]
  },
  {
   "cell_type": "code",
   "execution_count": 22,
   "metadata": {},
   "outputs": [],
   "source": [
    "# get rid of the State, Amount titles\n",
    "\n",
    "# rekey = rekey.filter(lambda x: not x[0] == 'State')"
   ]
  },
  {
   "cell_type": "code",
   "execution_count": 23,
   "metadata": {},
   "outputs": [],
   "source": [
    "# sort the result by Amount\n",
    "# take the second item of tuple\n",
    "# and ascending it\n",
    "\n",
    "# rekey = rekey.sortBy(lambda stAmount: stAmount[1], ascending = False)"
   ]
  },
  {
   "cell_type": "code",
   "execution_count": 24,
   "metadata": {},
   "outputs": [],
   "source": [
    "# rekey.collect()"
   ]
  },
  {
   "cell_type": "code",
   "execution_count": null,
   "metadata": {},
   "outputs": [],
   "source": []
  }
 ],
 "metadata": {
  "kernelspec": {
   "display_name": "Python 3",
   "language": "python",
   "name": "python3"
  },
  "language_info": {
   "codemirror_mode": {
    "name": "ipython",
    "version": 3
   },
   "file_extension": ".py",
   "mimetype": "text/x-python",
   "name": "python",
   "nbconvert_exporter": "python",
   "pygments_lexer": "ipython3",
   "version": "3.7.4"
  }
 },
 "nbformat": 4,
 "nbformat_minor": 2
}
